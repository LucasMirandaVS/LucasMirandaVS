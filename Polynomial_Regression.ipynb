{
  "cells": [
    {
      "cell_type": "markdown",
      "metadata": {
        "id": "view-in-github",
        "colab_type": "text"
      },
      "source": [
        "<a href=\"https://colab.research.google.com/github/LucasMirandaVS/LucasMirandaVS/blob/main/Polynomial_Regression.ipynb\" target=\"_parent\"><img src=\"https://colab.research.google.com/assets/colab-badge.svg\" alt=\"Open In Colab\"/></a>"
      ]
    },
    {
      "cell_type": "markdown",
      "metadata": {
        "id": "fWoAJ7vDyEr7"
      },
      "source": [
        "# Polynomial Regression\n",
        "\n",
        "\n",
        "Estimated time needed: **40** minutes\n",
        "\n",
        "What if your data is more complex than a straight line? Surprisingly, you can use a linear model to fit nonlinear data. A simple way to do this is to add powers of each feature as new features, then train a linear model on this extended set of features. This technique is called Polynomial Regression.\n",
        "\n",
        "There are two factors when determining model performance: overfitting and underfitting. Overfitting is when the model is too complex and does well on the training data but not on the test data. Underfitting is when the model is too simple and performs poorly on the training and testing data sets.\n",
        "\n",
        "Overfitting is simple to deal with, using methods like regularization, which we will discuss in the next lab. To deal with underfitting, we can build a more complex model using methods like polynomial regression. If making a more complex model does not work, this may involve using more data to train the model on or obtaining new features. As this process is complex, it's better to determine if the model can overfit the data first. Therefore, in this section, we will use Polynomial Regression to overfit the data to determine if we have an adequate amount of data.\n",
        "\n",
        "In this notebook, we will explore Polynomial Regression and perform polynomial transform using individual features as well as multiple features.\n",
        "\n",
        "\n",
        "## Objectives\n",
        "\n",
        "After completing this lab you will be able to:\n",
        "\n",
        "*   Understand the concept of  overfitting versus underfitting\n",
        "*   Apply polynomial transforms to data\n",
        "*   Perform  hyperparameters grid search on a model, using validation data\n",
        "\n"
      ]
    },
    {
      "cell_type": "markdown",
      "metadata": {
        "id": "wBVlQ61-yEr7"
      },
      "source": [
        "***\n"
      ]
    },
    {
      "cell_type": "markdown",
      "metadata": {
        "id": "D9jG5dOCyEr8"
      },
      "source": [
        "## **Setup**\n"
      ]
    },
    {
      "cell_type": "markdown",
      "metadata": {
        "id": "o0z6_XAByEr8"
      },
      "source": [
        "For this lab, we will be using the following libraries:\n",
        " - [`pandas`](https://pandas.pydata.org/?utm_medium=Exinfluencer&utm_source=Exinfluencer&utm_content=000026UJ&utm_term=10006555&utm_id=NA-SkillsNetwork-Channel-SkillsNetworkCoursesIBMML240ENSkillsNetwork783-2023-01-01) for managing the data.\n",
        " - [`numpy`](https://numpy.org/?utm_medium=Exinfluencer&utm_source=Exinfluencer&utm_content=000026UJ&utm_term=10006555&utm_id=NA-SkillsNetwork-Channel-SkillsNetworkCoursesIBMML240ENSkillsNetwork783-2023-01-01) for mathematical operations.\n",
        " - [`seaborn`](https://seaborn.pydata.org/?utm_medium=Exinfluencer&utm_source=Exinfluencer&utm_content=000026UJ&utm_term=10006555&utm_id=NA-SkillsNetwork-Channel-SkillsNetworkCoursesIBMML240ENSkillsNetwork783-2023-01-01) for visualizing the data.\n",
        " - [`matplotlib`](https://matplotlib.org/?utm_medium=Exinfluencer&utm_source=Exinfluencer&utm_content=000026UJ&utm_term=10006555&utm_id=NA-SkillsNetwork-Channel-SkillsNetworkCoursesIBMML240ENSkillsNetwork783-2023-01-01) for visualizing the data.\n",
        " - [`sklearn`](https://scikit-learn.org/stable/?utm_medium=Exinfluencer&utm_source=Exinfluencer&utm_content=000026UJ&utm_term=10006555&utm_id=NA-SkillsNetwork-Channel-SkillsNetworkCoursesIBMML240ENSkillsNetwork783-2023-01-01) for machine learning and machine-learning-pipeline related functions.\n",
        " - [`scipy`](https://docs.scipy.org/doc/scipy/tutorial/stats.html/?utm_medium=Exinfluencer&utm_source=Exinfluencer&utm_content=000026UJ&utm_term=10006555&utm_id=NA-SkillsNetwork-Channel-SkillsNetworkCoursesIBMML240ENSkillsNetwork783-2023-01-01) for statistical computations.\n"
      ]
    },
    {
      "cell_type": "markdown",
      "metadata": {
        "id": "J1JQIcxNyEr8"
      },
      "source": [
        "## **Import the required libraries**\n"
      ]
    },
    {
      "cell_type": "markdown",
      "metadata": {
        "id": "Jmatvxu4yEr8"
      },
      "source": [
        "The following required modules are pre-installed in the Skills Network Labs environment. However, if you run this notebook commands in a different Jupyter environment (e.g. Watson Studio or Ananconda), you will need to install these libraries by removing the `#` sign before `!mamba` in the code cell below.\n"
      ]
    },
    {
      "cell_type": "code",
      "execution_count": null,
      "metadata": {
        "id": "qFXOROveyEr8"
      },
      "outputs": [],
      "source": [
        "# All Libraries required for this lab are listed below. The libraries pre-installed on Skills Network Labs are commented.\n",
        "# !mamba install -qy pandas==1.3.4 numpy==1.21.4 seaborn==0.9.0 matplotlib==3.5.0 scikit-learn==0.20.1\n",
        "# Note: If your environment doesn't support \"!mamba install\", use \"!pip install\""
      ]
    },
    {
      "cell_type": "code",
      "execution_count": null,
      "metadata": {
        "id": "zVET2TtGyEr9"
      },
      "outputs": [],
      "source": [
        "#!pip install -U scikit-learn"
      ]
    },
    {
      "cell_type": "code",
      "execution_count": null,
      "metadata": {
        "id": "tIFJZ7UMyEr9"
      },
      "outputs": [],
      "source": [
        "# Surpress warnings:\n",
        "def warn(*args, **kwargs):\n",
        "    pass\n",
        "import warnings\n",
        "warnings.warn = warn\n"
      ]
    },
    {
      "cell_type": "code",
      "execution_count": null,
      "metadata": {
        "id": "OV02Gax7yEr9"
      },
      "outputs": [],
      "source": [
        "import pandas as pd\n",
        "import numpy as np\n",
        "\n",
        "import seaborn as sns\n",
        "import matplotlib.pylab as plt\n",
        "%matplotlib inline\n",
        "\n",
        "from sklearn.model_selection import train_test_split\n",
        "from sklearn.linear_model import LinearRegression\n",
        "from sklearn.metrics import r2_score\n",
        "from sklearn.preprocessing import PolynomialFeatures\n",
        "from sklearn.metrics import mean_squared_error\n",
        "from sklearn.preprocessing import scale\n",
        "from sklearn.preprocessing import StandardScaler\n",
        "from sklearn.preprocessing import MinMaxScaler\n",
        "from sklearn.feature_selection import SelectKBest, f_regression\n",
        "from sklearn.pipeline import Pipeline\n",
        "from sklearn.model_selection import GridSearchCV"
      ]
    },
    {
      "cell_type": "markdown",
      "metadata": {
        "id": "wRbg7wk7yEr9"
      },
      "source": [
        "The function below will calculate the $R^{2}$ on each feature given the a input model.\n"
      ]
    },
    {
      "cell_type": "code",
      "execution_count": null,
      "metadata": {
        "id": "ZR_b2JbWyEr9"
      },
      "outputs": [],
      "source": [
        "def get_R2_features(model,test=True):\n",
        "    #X: global\n",
        "    features=list(X)\n",
        "    features.remove(\"three\")\n",
        "\n",
        "    R_2_train=[]\n",
        "    R_2_test=[]\n",
        "\n",
        "    for feature in features:\n",
        "        model.fit(X_train[[feature]],y_train)\n",
        "\n",
        "        R_2_test.append(model.score(X_test[[feature]],y_test))\n",
        "        R_2_train.append(model.score(X_train[[feature]],y_train))\n",
        "\n",
        "    plt.bar(features,R_2_train,label=\"Train\")\n",
        "    plt.bar(features,R_2_test,label=\"Test\")\n",
        "    plt.xticks(rotation=90)\n",
        "    plt.ylabel(\"$R^2$\")\n",
        "    plt.legend()\n",
        "    plt.show()\n",
        "    print(\"Training R^2 mean value {} Testing R^2 mean value {} \".format(str(np.mean(R_2_train)),str(np.mean(R_2_test))) )\n",
        "    print(\"Training R^2 max value {} Testing R^2 max value {} \".format(str(np.max(R_2_train)),str(np.max(R_2_test))) )"
      ]
    },
    {
      "cell_type": "markdown",
      "metadata": {
        "id": "1rcwb5oyyEr-"
      },
      "source": [
        "The function below will plot the distribution of two inputs.\n"
      ]
    },
    {
      "cell_type": "code",
      "execution_count": null,
      "metadata": {
        "id": "nZhGHfFwyEr-"
      },
      "outputs": [],
      "source": [
        "def  plot_dis(y,yhat):\n",
        "\n",
        "    plt.figure()\n",
        "    ax1 = sns.distplot(y, hist=False, color=\"r\", label=\"Actual Value\")\n",
        "    sns.distplot(yhat, hist=False, color=\"b\", label=\"Fitted Values\" , ax=ax1)\n",
        "    plt.legend()\n",
        "\n",
        "    plt.title('Actual vs Fitted Values')\n",
        "    plt.xlabel('Price (in dollars)')\n",
        "    plt.ylabel('Proportion of Cars')\n",
        "\n",
        "    plt.show()\n",
        "    plt.close()"
      ]
    },
    {
      "cell_type": "markdown",
      "metadata": {
        "id": "Pv1ca8heyEr-"
      },
      "source": [
        "## **Reading and understanding our data**\n"
      ]
    },
    {
      "cell_type": "markdown",
      "metadata": {
        "id": "FyMFCT6UyEr-"
      },
      "source": [
        "For this lab, we will be using the car sales dataset, hosted on IBM Cloud object storage. This dataset can also be found and downloaded from [kaggle.com](https://www.kaggle.com/datasets/goyalshalini93/car-data?utm_medium=Exinfluencer&utm_source=Exinfluencer&utm_content=000026UJ&utm_term=10006555&utm_id=NA-SkillsNetwork-Channel-SkillsNetworkCoursesIBMML240ENSkillsNetwork783-2023-01-01), an open public data source.\n",
        "The dataset contains all the information about cars, a name of a manufacturer, all car's technical parameters and a sale price of a car.\n",
        "\n",
        "This dataset has already been pre-cleaned and encoded (using one-hot and label encoders) in the Linear Regression Notebook.\n"
      ]
    },
    {
      "cell_type": "markdown",
      "metadata": {
        "id": "vMUP_KjZyEr-"
      },
      "source": [
        "Let's read the data into *pandas* data frame and look at the first 5 rows using the `head()` method.\n"
      ]
    },
    {
      "cell_type": "code",
      "execution_count": null,
      "metadata": {
        "id": "DPs80otQyEr-"
      },
      "outputs": [],
      "source": [
        "data = pd.read_csv('https://cf-courses-data.s3.us.cloud-object-storage.appdomain.cloud/IBM-ML240EN-SkillsNetwork/labs/encoded_car_data.csv')\n",
        "data.head()"
      ]
    },
    {
      "cell_type": "markdown",
      "metadata": {
        "id": "G7kPilB8yEr-"
      },
      "source": [
        "We can find more information about the features and types using the `info()`  method.\n"
      ]
    },
    {
      "cell_type": "code",
      "execution_count": null,
      "metadata": {
        "id": "KtWoE45dyEr-"
      },
      "outputs": [],
      "source": [
        "data.info()"
      ]
    },
    {
      "cell_type": "markdown",
      "metadata": {
        "id": "-4HbdoeTyEr-"
      },
      "source": [
        "We have 35 features in our dataset after the one hot encoding.\n",
        "\n",
        "Before we begin our polynomial analysis, let's visualize some of the relationships between our features and the target variable, 'price'.\n"
      ]
    },
    {
      "cell_type": "code",
      "execution_count": null,
      "metadata": {
        "id": "RB3OFnMuyEr-"
      },
      "outputs": [],
      "source": [
        "sns.lmplot(x = 'curbweight', y = 'price', data = data, order=2)"
      ]
    },
    {
      "cell_type": "code",
      "execution_count": null,
      "metadata": {
        "id": "TnK9N2jyyEr-"
      },
      "outputs": [],
      "source": [
        "sns.lmplot(x = 'carlength', y = 'price', data = data, order=2)"
      ]
    },
    {
      "cell_type": "markdown",
      "metadata": {
        "id": "jmDKyABlyEr-"
      },
      "source": [
        "The relationship is more curved.\n"
      ]
    },
    {
      "cell_type": "markdown",
      "metadata": {
        "id": "82h3LoiiyEr-"
      },
      "source": [
        "## Exercise 1\n",
        "In this Exercise, visualize the relationship between the 'horsepower' and the target variable, 'price'.\n"
      ]
    },
    {
      "cell_type": "code",
      "execution_count": null,
      "metadata": {
        "id": "QkGFZs3OyEr-"
      },
      "outputs": [],
      "source": [
        "# Enter your code and run the cell\n"
      ]
    },
    {
      "cell_type": "markdown",
      "metadata": {
        "id": "0qDsUMbSyEr_"
      },
      "source": [
        "<details>\n",
        "<summary><strong>Solution</strong> (Click Here)</summary>\n",
        "```python\n",
        "    \n",
        "sns.lmplot(x = 'horsepower', y = 'price', data = data, order=2)\n",
        "    \n",
        "```\n",
        "</details>\n"
      ]
    },
    {
      "cell_type": "markdown",
      "metadata": {
        "id": "AOh8dvReyEr_"
      },
      "source": [
        "## Data Preparation\n",
        "\n",
        "Let's first split our data into ```X``` features and ```y``` target.\n"
      ]
    },
    {
      "cell_type": "code",
      "execution_count": null,
      "metadata": {
        "id": "-n9puQroyEr_"
      },
      "outputs": [],
      "source": [
        "X = data.drop('price', axis=1)\n",
        "y = data.price"
      ]
    },
    {
      "cell_type": "markdown",
      "metadata": {
        "id": "zAmAhQzoyEr_"
      },
      "source": [
        "## Train Test Split\n"
      ]
    },
    {
      "cell_type": "markdown",
      "metadata": {
        "id": "89QyfnX8yEr_"
      },
      "source": [
        "Now that we have split our data into training and testing sets, the training data is used for your model to recognize patterns using some criteria,the test data set it used to evaluate your model, as shown in the following image:\n"
      ]
    },
    {
      "cell_type": "markdown",
      "metadata": {
        "id": "bsGZ7mPhyEr_"
      },
      "source": [
        "<center>\n",
        "    <img src=\"https://cf-courses-data.s3.us.cloud-object-storage.appdomain.cloud/IBM-ML240EN-SkillsNetwork/images/trin-test.png\">\n",
        "</center>\n",
        "<center>source scikit-learn.org</center>\n"
      ]
    },
    {
      "cell_type": "markdown",
      "metadata": {
        "id": "qlRK76qpyEr_"
      },
      "source": [
        "Now, we split our data, using <code>train_test_split</code> function, into the training and testing sets, allocating 30% of the data for testing.\n"
      ]
    },
    {
      "cell_type": "code",
      "execution_count": null,
      "metadata": {
        "id": "o_xFDd4gyEr_"
      },
      "outputs": [],
      "source": [
        "X_train, X_test, y_train, y_test = train_test_split(X,y, test_size=0.3, random_state=42)\n",
        "print(\"Number of test samples:\", X_test.shape[0])\n",
        "print(\"Number of training samples:\", X_train.shape[0])\n"
      ]
    },
    {
      "cell_type": "markdown",
      "metadata": {
        "id": "b_639rPyyEr_"
      },
      "source": [
        "### Multiple Features\n"
      ]
    },
    {
      "cell_type": "markdown",
      "metadata": {
        "id": "BP1k8m64yEr_"
      },
      "source": [
        "Let's create a <code>LinearRegression</code> object, called `lm`.\n"
      ]
    },
    {
      "cell_type": "code",
      "execution_count": null,
      "metadata": {
        "id": "GZ_mpJ90yEr_"
      },
      "outputs": [],
      "source": [
        "lm = LinearRegression()"
      ]
    },
    {
      "cell_type": "markdown",
      "metadata": {
        "id": "_8P2eMGyyEr_"
      },
      "source": [
        "Now, let's fit the model with multiple features on our X_train and y_train data.\n"
      ]
    },
    {
      "cell_type": "code",
      "execution_count": null,
      "metadata": {
        "id": "H6-j1xYUyEsA"
      },
      "outputs": [],
      "source": [
        "lm.fit(X_train, y_train)"
      ]
    },
    {
      "cell_type": "markdown",
      "metadata": {
        "id": "kAZ5g2qvyEsA"
      },
      "source": [
        "We apply `predict(`) function on the testing data set.\n"
      ]
    },
    {
      "cell_type": "code",
      "execution_count": null,
      "metadata": {
        "id": "qekIY0ssyEsA"
      },
      "outputs": [],
      "source": [
        "predicted = lm.predict(X_test)"
      ]
    },
    {
      "cell_type": "markdown",
      "metadata": {
        "id": "iKNJRypXyEsA"
      },
      "source": [
        "Let's calculate the `r2_score()` on both, training and testing data sets.\n"
      ]
    },
    {
      "cell_type": "code",
      "execution_count": null,
      "metadata": {
        "id": "gnxoICbJyEsA"
      },
      "outputs": [],
      "source": [
        "print(\"R^2 on training  data \",lm.score(X_train, y_train))\n",
        "print(\"R^2 on testing data \",lm.score(X_test,y_test))"
      ]
    },
    {
      "cell_type": "markdown",
      "metadata": {
        "id": "AH1bUzEMyEsA"
      },
      "source": [
        "We can plot distributions of the predicted values versus the actual values.\n"
      ]
    },
    {
      "cell_type": "code",
      "execution_count": null,
      "metadata": {
        "id": "xOC_cnyXyEsA"
      },
      "outputs": [],
      "source": [
        "plot_dis(y_test,predicted)"
      ]
    },
    {
      "cell_type": "markdown",
      "metadata": {
        "id": "5dizwI3ZyEsA"
      },
      "source": [
        "Below, we will view the estimated coefficients for the linear regression problem.\n"
      ]
    },
    {
      "cell_type": "code",
      "execution_count": null,
      "metadata": {
        "id": "Dw6KCh1zyEsA"
      },
      "outputs": [],
      "source": [
        "{col:coef for col,coef in zip(X.columns, lm.coef_)}"
      ]
    },
    {
      "cell_type": "markdown",
      "metadata": {
        "id": "PLjLv9HwyEsA"
      },
      "source": [
        "As we see, the first two coefficients are too large to plot, so we'll drop them and plot the rest of the coefficients.\n"
      ]
    },
    {
      "cell_type": "code",
      "execution_count": null,
      "metadata": {
        "id": "-tYie0koyEsA"
      },
      "outputs": [],
      "source": [
        "plt.bar(X.columns[2:],abs(lm.coef_[2:]))\n",
        "plt.xticks(rotation=90)\n",
        "plt.ylabel(\"$coefficients$\")\n",
        "plt.show()"
      ]
    },
    {
      "cell_type": "markdown",
      "metadata": {
        "id": "__O1iJX2yEsA"
      },
      "source": [
        "Usually, we can interpret the lager coefficients as having more importance on the prediction, but this is not always the case, so let's look at the individual features.\n"
      ]
    },
    {
      "cell_type": "markdown",
      "metadata": {
        "id": "_6lbvgjFyEsA"
      },
      "source": [
        "### Individual Features\n"
      ]
    },
    {
      "cell_type": "markdown",
      "metadata": {
        "id": "KCFL0Jp3yEsB"
      },
      "source": [
        "We can train the model and plot our $R^2$ for each of the features on the training and testing data sets, using the function <code>get_R2_features</code>.\n"
      ]
    },
    {
      "cell_type": "code",
      "execution_count": null,
      "metadata": {
        "id": "5uD2nskEyEsB"
      },
      "outputs": [],
      "source": [
        "get_R2_features(lm)"
      ]
    },
    {
      "cell_type": "markdown",
      "metadata": {
        "id": "kvOr2fGryEsB"
      },
      "source": [
        "From the above plot, we see that some individual features perform similarly to  using all the features (we removed the feature ```three``` ), in  addition, we see that smaller coefficients seem to correspond to a larger $R^{2}$, therefore  larger coefficients correspond to overfiting.\n"
      ]
    },
    {
      "cell_type": "markdown",
      "metadata": {
        "id": "S6njuc2iyEsB"
      },
      "source": [
        "## Exercise 2\n",
        "In this Exercise, calculate the $R^2$ using the object Pipeline for  Linear Regression and apply ```StandardScaler()``` to all features, then use the function ```plot_dis``` to compare the predicted values versus the actual values.\n"
      ]
    },
    {
      "cell_type": "code",
      "execution_count": null,
      "metadata": {
        "id": "L5lsBEYdyEsB"
      },
      "outputs": [],
      "source": [
        "# Enter your code and run the cell\n"
      ]
    },
    {
      "cell_type": "markdown",
      "metadata": {
        "id": "8Cs6I23qyEsB"
      },
      "source": [
        "<details>\n",
        "<summary><strong>Solution</strong> (Click Here)</summary>\n",
        " ```python\n",
        "    \n",
        "pipe = Pipeline([('ss',StandardScaler() ),('lr', LinearRegression())])\n",
        "pipe.fit(X_train,y_train)\n",
        "print(\"R^2 on training  data \", pipe.score(X_train, y_train))\n",
        "print(\"R^2 on testing data \", pipe.score(X_test,y_test))\n",
        "predicted = pipe.predict(X_test)\n",
        "plot_dis(y_test,predicted)\n",
        "    \n",
        "```\n",
        "</details>\n"
      ]
    },
    {
      "cell_type": "markdown",
      "metadata": {
        "id": "V4U8UzNkyEsB"
      },
      "source": [
        "## Exercise 3\n",
        "In this Exercise, calculate the $R^2$ using the object Pipeline with  ```StandardScaler()``` for each individual features using the function ```get_R2_features```.\n"
      ]
    },
    {
      "cell_type": "code",
      "execution_count": null,
      "metadata": {
        "id": "tIkrmUP3yEsB"
      },
      "outputs": [],
      "source": [
        "# Enter your code and run the cell\n"
      ]
    },
    {
      "cell_type": "markdown",
      "metadata": {
        "id": "j6V4hqLIyEsB"
      },
      "source": [
        "<details>\n",
        "<summary><strong>Solution</strong> (Click Here)</summary>\n",
        "```python\n",
        "    \n",
        "pipe = Pipeline([('ss',StandardScaler() ),('lr', LinearRegression())])\n",
        "get_R2_features(pipe)\n",
        "    \n",
        "```\n",
        "</details>\n"
      ]
    },
    {
      "cell_type": "markdown",
      "metadata": {
        "id": "g8MpOnoNyEsB"
      },
      "source": [
        "## Polynomial Features\n"
      ]
    },
    {
      "cell_type": "markdown",
      "metadata": {
        "id": "bA55Ev4tyEsB"
      },
      "source": [
        "### Multiple Features\n"
      ]
    },
    {
      "cell_type": "markdown",
      "metadata": {
        "id": "HtuX5gCpyEsB"
      },
      "source": [
        "Polynomial transform is a simple way to increase the complexity of the model, but we must be mindful of overfilling.\n",
        "Below, we will perform a second degree (degree=2) polynomial transformation.\n"
      ]
    },
    {
      "cell_type": "code",
      "execution_count": null,
      "metadata": {
        "id": "ik8-3WOyyEsC"
      },
      "outputs": [],
      "source": [
        "poly_features = PolynomialFeatures(degree=2, include_bias=False)"
      ]
    },
    {
      "cell_type": "markdown",
      "metadata": {
        "id": "zQIqWohSyEsC"
      },
      "source": [
        "Now, we transform the training and testing data sets.\n"
      ]
    },
    {
      "cell_type": "code",
      "execution_count": null,
      "metadata": {
        "id": "VICymNDeyEsC"
      },
      "outputs": [],
      "source": [
        "X_train_poly = poly_features.fit_transform(X_train)\n",
        "X_test_poly = poly_features.transform(X_test)"
      ]
    },
    {
      "cell_type": "markdown",
      "metadata": {
        "id": "q6uMBKl2yEsC"
      },
      "source": [
        "`X_train_poly` and `X_test_poly` now contain the original features of X plus the square of these features and the cross-terms combination.\n",
        "Let's check the shape of the newly created train and test sets.\n"
      ]
    },
    {
      "cell_type": "code",
      "execution_count": null,
      "metadata": {
        "id": "VHbJ7gTpyEsC"
      },
      "outputs": [],
      "source": [
        "print(X_train_poly.shape)\n"
      ]
    },
    {
      "cell_type": "code",
      "execution_count": null,
      "metadata": {
        "id": "ll8YtfaTyEsC"
      },
      "outputs": [],
      "source": [
        "print(X_test_poly.shape)"
      ]
    },
    {
      "cell_type": "markdown",
      "metadata": {
        "id": "ip5VEMXkyEsC"
      },
      "source": [
        "Altogether, we have 665 features. Now, we fit the model with the newly created features.\n"
      ]
    },
    {
      "cell_type": "code",
      "execution_count": null,
      "metadata": {
        "id": "bhl9FdreyEsC"
      },
      "outputs": [],
      "source": [
        "lm = LinearRegression()\n",
        "lm.fit(X_train_poly, y_train)"
      ]
    },
    {
      "cell_type": "markdown",
      "metadata": {
        "id": "Mk-i5PcdyEsC"
      },
      "source": [
        "And we make predictions.\n"
      ]
    },
    {
      "cell_type": "code",
      "execution_count": null,
      "metadata": {
        "id": "qxpHiErcyEsC"
      },
      "outputs": [],
      "source": [
        "predicted = lm.predict(X_train_poly)"
      ]
    },
    {
      "cell_type": "markdown",
      "metadata": {
        "id": "acG_NKJ6yEsC"
      },
      "source": [
        "Again, we can ckeck the `r2_score()` on both, training and testing data sets.\n"
      ]
    },
    {
      "cell_type": "code",
      "execution_count": null,
      "metadata": {
        "id": "FfivkRO6yEsC"
      },
      "outputs": [],
      "source": [
        "print(\"R^2 on training data:\", lm.score(X_train_poly, y_train))\n",
        "print(\"R^2 on testing data:\", lm.score(X_test_poly,y_test))"
      ]
    },
    {
      "cell_type": "markdown",
      "metadata": {
        "id": "gWBZkucByEsD"
      },
      "source": [
        "We see the model has a negative $R^{2}$ on the test data set, this is sign of overfiting.\n"
      ]
    },
    {
      "cell_type": "markdown",
      "metadata": {
        "id": "HVd_pfW7yEsD"
      },
      "source": [
        "### Individual Features\n"
      ]
    },
    {
      "cell_type": "markdown",
      "metadata": {
        "id": "GpD6ecqryEsD"
      },
      "source": [
        "<p>Data Pipelines simplify the steps of processing the data. We use the module <code>Pipeline</code> to create a pipeline. We also use <code>PolynomialFeatures</code> as a step in our pipeline.</p>\n"
      ]
    },
    {
      "cell_type": "code",
      "execution_count": null,
      "metadata": {
        "id": "6_JrI0HZyEsD"
      },
      "outputs": [],
      "source": [
        "Input=[ ('polynomial', PolynomialFeatures(include_bias=False,degree=2)), ('model', LinearRegression())]"
      ]
    },
    {
      "cell_type": "markdown",
      "metadata": {
        "id": "xi5eXaEXyEsD"
      },
      "source": [
        "We can repeat the steps above, using the <code>Pipleine</code> object.\n"
      ]
    },
    {
      "cell_type": "code",
      "execution_count": null,
      "metadata": {
        "id": "a9sUVi3HyEsD"
      },
      "outputs": [],
      "source": [
        "pipe=Pipeline(Input)\n",
        "pipe.fit(X_train, y_train)"
      ]
    },
    {
      "cell_type": "markdown",
      "metadata": {
        "id": "yhi0_EdEyEsD"
      },
      "source": [
        "We can see the results are identical.\n"
      ]
    },
    {
      "cell_type": "code",
      "execution_count": null,
      "metadata": {
        "id": "gEVqglFByEsD"
      },
      "outputs": [],
      "source": [
        "print(\"R^2 on training  data:\", pipe.score(X_train, y_train))\n",
        "print(\"R^2 on testing data:\", pipe.score(X_test,y_test))"
      ]
    },
    {
      "cell_type": "markdown",
      "metadata": {
        "id": "OKGFZddCyEsD"
      },
      "source": [
        "We can train our model on each of the features using the Polynomial Feature transform of the second degree. Then we can plot our $R^2$.\n"
      ]
    },
    {
      "cell_type": "code",
      "execution_count": null,
      "metadata": {
        "id": "iQoTeCNuyEsD"
      },
      "outputs": [],
      "source": [
        "get_R2_features(pipe)"
      ]
    },
    {
      "cell_type": "markdown",
      "metadata": {
        "id": "FJBJIcolyEsD"
      },
      "source": [
        "Feature with the max $R^{2}$ is higher than when using all the features.\n"
      ]
    },
    {
      "cell_type": "markdown",
      "metadata": {
        "id": "5V4g9iUpyEsD"
      },
      "source": [
        "## GridSearch and  Pipeline\n"
      ]
    },
    {
      "cell_type": "markdown",
      "metadata": {
        "id": "khI0VOfHyEsD"
      },
      "source": [
        "In this section of the notebook, we will define a pipeline object, then use GridSearch to find the best hyper-parameters of the model by using  cross-validation method of the  parameter grid, as shown in the figure below. A 5-fold cross validation is used by default. We will learn more about k-fold cross validation in the next, Cross Validation lesson of the Course.\n"
      ]
    },
    {
      "cell_type": "markdown",
      "metadata": {
        "id": "YOupOzbhyEsE"
      },
      "source": [
        "<center>\n",
        "    <img src=\"https://cf-courses-data.s3.us.cloud-object-storage.appdomain.cloud/IBM-ML240EN-SkillsNetwork/images/k-fold.png\">\n",
        "</center>\n",
        "<center>source scikit-learn.org</center>\n"
      ]
    },
    {
      "cell_type": "markdown",
      "metadata": {
        "id": "cWxkSpkqyEsE"
      },
      "source": [
        "We create `PolynomialFeatures()` pipeline.\n"
      ]
    },
    {
      "cell_type": "code",
      "execution_count": null,
      "metadata": {
        "id": "c63gvSkOyEsE"
      },
      "outputs": [],
      "source": [
        "Input=[ ('polynomial', PolynomialFeatures(include_bias=False,degree=2)), ('model',LinearRegression())]\n",
        "pipe=Pipeline(Input)"
      ]
    },
    {
      "cell_type": "markdown",
      "metadata": {
        "id": "vVa1O9gnyEsE"
      },
      "source": [
        "To search for the best combination of hyperparameters, we create a  <b>GridSearchCV</b> object with dictionary of parameter values. The parameters of pipelines can be set using the name of the key separated by\n",
        "'__', then the parameter name of the key.\n"
      ]
    },
    {
      "cell_type": "code",
      "execution_count": null,
      "metadata": {
        "id": "rjcyaESkyEsE"
      },
      "outputs": [],
      "source": [
        "param_grid = {\n",
        "    \"polynomial__degree\": [1, 2, 3],\n",
        "    \"model__normalize\":[True, False]\n",
        "\n",
        "}"
      ]
    },
    {
      "cell_type": "markdown",
      "metadata": {
        "id": "eUhGI_PIyEsE"
      },
      "source": [
        "<b>polynomial__degree</b>: is the degree of the polynomial.\n",
        "\n",
        "<b>model__normalize</b> This parameter is ignored when fit_intercept is set to False. If True, the regressors X will be normalized before regression by subtracting the mean and dividing by the l2-norm.\n"
      ]
    },
    {
      "cell_type": "markdown",
      "metadata": {
        "id": "8lqSTdJmyEsE"
      },
      "source": [
        "The model is overfitting.\n"
      ]
    },
    {
      "cell_type": "code",
      "execution_count": null,
      "metadata": {
        "id": "RpG6jcgCyEsE"
      },
      "outputs": [],
      "source": [
        "search = GridSearchCV(pipe, param_grid, n_jobs=1)\n"
      ]
    },
    {
      "cell_type": "code",
      "execution_count": null,
      "metadata": {
        "id": "m8qastDRyEsE"
      },
      "outputs": [],
      "source": [
        "pipe.fit(X_train, y_train)"
      ]
    },
    {
      "cell_type": "code",
      "execution_count": null,
      "metadata": {
        "id": "Ohfj4oDAyEsE"
      },
      "outputs": [],
      "source": [
        "search.fit(X_test, y_test)"
      ]
    },
    {
      "cell_type": "markdown",
      "metadata": {
        "id": "e7grSMvdyEsE"
      },
      "source": [
        "The object finds the best parameter values on the validation data. We can obtain the estimator with the best parameters and assign it to the variable ```best```, as follows:\n"
      ]
    },
    {
      "cell_type": "code",
      "execution_count": null,
      "metadata": {
        "id": "xD4gFR79yEsE"
      },
      "outputs": [],
      "source": [
        "best=search.best_estimator_\n",
        "best"
      ]
    },
    {
      "cell_type": "markdown",
      "metadata": {
        "id": "2UyteVOVyEsE"
      },
      "source": [
        "We see the degree is one and normalize is <code>Ture </code>.\n"
      ]
    },
    {
      "cell_type": "markdown",
      "metadata": {
        "id": "TmtwhAdDyEsF"
      },
      "source": [
        "Now, we test our model on the test data to see the best score.\n"
      ]
    },
    {
      "cell_type": "code",
      "execution_count": null,
      "metadata": {
        "id": "fytGQVr0yEsF"
      },
      "outputs": [],
      "source": [
        "best.score(X_test,y_test)"
      ]
    },
    {
      "cell_type": "markdown",
      "metadata": {
        "id": "HHb7Wu-oyEsF"
      },
      "source": [
        "Finally, we can plot a distribution of the predicted values versus the actual values.\n"
      ]
    },
    {
      "cell_type": "code",
      "execution_count": null,
      "metadata": {
        "id": "20lc7TNQyEsF"
      },
      "outputs": [],
      "source": [
        "predicted=best.predict(X_test)\n",
        "plot_dis(y_test,predicted)"
      ]
    },
    {
      "cell_type": "markdown",
      "metadata": {
        "id": "0GSZNPWbyEsF"
      },
      "source": [
        "As we see, the result is almost perfect!\n"
      ]
    },
    {
      "cell_type": "markdown",
      "metadata": {
        "id": "sHwcBNNWyEsF"
      },
      "source": [
        "## Exercise 4\n",
        "In this Exercise, calculate the $R^2$ using the object ```Pipeline``` with ```GridSearch``` for each individual features.\n"
      ]
    },
    {
      "cell_type": "code",
      "execution_count": null,
      "metadata": {
        "id": "3mz4ExI2yEsF"
      },
      "outputs": [],
      "source": [
        "# Enter your code and run the cell\n"
      ]
    },
    {
      "cell_type": "markdown",
      "metadata": {
        "id": "o6qBpWbvyEsF"
      },
      "source": [
        "<details>\n",
        "<summary><strong>Solution</strong> (Click Here)</summary>\n",
        "\n",
        "```python    \n",
        "features=list(X)\n",
        "   \n",
        "    \n",
        "R_2_train=[]\n",
        "R_2_test=[]\n",
        "\n",
        "for feature in features:\n",
        "    param_grid = {\n",
        "    \"polynomial__degree\": [ 1, 2,3,4,5],\n",
        "    \"model__positive\":[True, False]}\n",
        "    Input=[ ('polynomial', PolynomialFeatures(include_bias=False,degree=2)), ('model',LinearRegression())]\n",
        "    pipe=Pipeline(Input)\n",
        "    print(feature)\n",
        "    search = GridSearchCV(pipe, param_grid, n_jobs=2)\n",
        "    search.fit(X_test[[feature]], y_test)\n",
        "    best=search.best_estimator_\n",
        "        \n",
        "    R_2_test.append(best.score(X_test[[feature]],y_test))\n",
        "    R_2_train.append(best.score(X_train[[feature]],y_train))\n",
        "    \n",
        "        \n",
        "plt.bar(features,R_2_train,label=\"Train\")\n",
        "plt.bar(features,R_2_test,label=\"Test\")\n",
        "plt.xticks(rotation=90)\n",
        "plt.ylabel(\"$R^2$\")\n",
        "plt.legend()\n",
        "plt.show()\n",
        "print(\"Training R^2 mean value {} Testing R^2 mean value {} \".format(str(np.mean(R_2_train)),str(np.mean(R_2_test))) )\n",
        "print(\"Training R^2 max value {} Testing R^2 max value {} \".format(str(np.max(R_2_train)),str(np.max(R_2_test))) )\n",
        "```\n",
        "</details>\n"
      ]
    },
    {
      "cell_type": "markdown",
      "metadata": {
        "id": "MpW7bDZjyEsF"
      },
      "source": [
        "# Congratulations! - You have completed the lab\n"
      ]
    },
    {
      "cell_type": "markdown",
      "metadata": {
        "id": "ZU1Mw90lyEsF"
      },
      "source": [
        "## Authors\n"
      ]
    },
    {
      "cell_type": "markdown",
      "metadata": {
        "id": "cT7xtQ9LyEsF"
      },
      "source": [
        "<a href=\"https://www.linkedin.com/in/joseph-s-50398b136/?utm_medium=Exinfluencer&utm_source=Exinfluencer&utm_content=000026UJ&utm_term=10006555&utm_id=NA-SkillsNetwork-Channel-SkillsNetworkCoursesIBMDeveloperSkillsNetworkML0101ENSkillsNetwork20718538-2021-01-01\">Joseph Santarcangelo</a>\n",
        "\n",
        "[Svitlana Kramar](www.linkedin.com/in/svitlana-kramar)\n"
      ]
    },
    {
      "cell_type": "markdown",
      "metadata": {
        "id": "tnpyFYszyEsF"
      },
      "source": [
        "## Change Log\n"
      ]
    },
    {
      "cell_type": "markdown",
      "metadata": {
        "id": "3ClKVbc5yEsF"
      },
      "source": [
        "| Date (YYYY-MM-DD) | Version | Changed By            | Change Description                   |\n",
        "| ----------------- | ------- | --------------------- | ------------------------------------ |\n",
        "|   2022-04-15      | 0.1     | Svitlana K.           | Created the first draft |\n",
        "|   2022-04-18      | 0.1     | Joseph S.             | Updated all content |\n",
        "|   2022-04-26      | 0.1     | Svitlana K.           | Corrected minor grammar errors |\n",
        "\n"
      ]
    }
  ],
  "metadata": {
    "kernelspec": {
      "display_name": "Python",
      "language": "python",
      "name": "conda-env-python-py"
    },
    "language_info": {
      "name": ""
    },
    "colab": {
      "provenance": [],
      "include_colab_link": true
    }
  },
  "nbformat": 4,
  "nbformat_minor": 0
}